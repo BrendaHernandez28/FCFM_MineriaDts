{
  "nbformat": 4,
  "nbformat_minor": 0,
  "metadata": {
    "colab": {
      "name": "Ej_Phyton_1801285.ipynb",
      "provenance": [],
      "authorship_tag": "ABX9TyM5GGqDMkiq5THekO5WPGpE",
      "include_colab_link": true
    },
    "kernelspec": {
      "name": "python3",
      "display_name": "Python 3"
    },
    "language_info": {
      "name": "python"
    }
  },
  "cells": [
    {
      "cell_type": "markdown",
      "metadata": {
        "id": "view-in-github",
        "colab_type": "text"
      },
      "source": [
        "<a href=\"https://colab.research.google.com/github/BrendaHernandez28/FCFM_MineriaDts/blob/main/Ej_Phyton_1801285.ipynb\" target=\"_parent\"><img src=\"https://colab.research.google.com/assets/colab-badge.svg\" alt=\"Open In Colab\"/></a>"
      ]
    },
    {
      "cell_type": "code",
      "metadata": {
        "id": "3Ycf1kP7hOaI"
      },
      "source": [
        ""
      ],
      "execution_count": null,
      "outputs": []
    },
    {
      "cell_type": "markdown",
      "metadata": {
        "id": "Fhn5KFqiivTj"
      },
      "source": [
        "EJERCICIO 1"
      ]
    },
    {
      "cell_type": "code",
      "metadata": {
        "colab": {
          "base_uri": "https://localhost:8080/"
        },
        "id": "Kl3nDujFhdJw",
        "outputId": "d4b9788e-374b-47d4-c55b-cda5c45df9ea"
      },
      "source": [
        "Mat= int(input(\"Introduce tu matricula: \"))\n",
        "\n",
        "print(\"Tu matricula y nombre es: \", Mat, \"Brenda Hernandez\")"
      ],
      "execution_count": 3,
      "outputs": [
        {
          "output_type": "stream",
          "text": [
            "Introduce tu matricula: 1801285\n",
            "Tu matricula y nombre es:  1801285 Brenda Hernandez\n"
          ],
          "name": "stdout"
        }
      ]
    },
    {
      "cell_type": "markdown",
      "metadata": {
        "id": "nXWW8C61jtiZ"
      },
      "source": [
        "EJERCICIO 2"
      ]
    },
    {
      "cell_type": "code",
      "metadata": {
        "colab": {
          "base_uri": "https://localhost:8080/"
        },
        "id": "89gF1uSvjwjC",
        "outputId": "209669b0-5567-4e4c-e2a8-31f43f64c861"
      },
      "source": [
        "a= int(input(\"Introduce un numero: \"))\n",
        "b= int(input(\"Introduce otro numero: \"))\n",
        "sum= a+b \n",
        "rest= a-b\n",
        "mult= a*b\n",
        "div=a/b\n",
        "exp=a**b\n",
        "print(sum,rest,mult,div,exp)\n",
        "  "
      ],
      "execution_count": 12,
      "outputs": [
        {
          "output_type": "stream",
          "text": [
            "Introduce un numero: 6\n",
            "Introduce otro numero: 8\n",
            "14 -2 48 0.75 1679616\n"
          ],
          "name": "stdout"
        }
      ]
    },
    {
      "cell_type": "markdown",
      "metadata": {
        "id": "5XvbOq5yl6LD"
      },
      "source": [
        "EJERCICIO 3"
      ]
    },
    {
      "cell_type": "code",
      "metadata": {
        "colab": {
          "base_uri": "https://localhost:8080/"
        },
        "id": "6RdiSXOll8SG",
        "outputId": "d6928538-2544-42b1-dc70-028d5004af54"
      },
      "source": [
        "suma=0\n",
        "for i in range(1,11):\n",
        "  print(i*3)\n",
        "  a=i*3\n",
        "  suma=a+suma\n",
        "  \n",
        "print(\"La suma de todos los numeros es: \", suma)\n",
        "\n",
        " \n"
      ],
      "execution_count": 42,
      "outputs": [
        {
          "output_type": "stream",
          "text": [
            "3\n",
            "6\n",
            "9\n",
            "12\n",
            "15\n",
            "18\n",
            "21\n",
            "24\n",
            "27\n",
            "30\n",
            "La suma de todos los numeros es:  165\n"
          ],
          "name": "stdout"
        }
      ]
    },
    {
      "cell_type": "markdown",
      "metadata": {
        "id": "vhFnA1zBqR4z"
      },
      "source": [
        "EJERCICIO 4"
      ]
    },
    {
      "cell_type": "code",
      "metadata": {
        "colab": {
          "base_uri": "https://localhost:8080/"
        },
        "id": "_GkRxsIZqU-W",
        "outputId": "b4a62c51-c564-4f71-e4a7-23edf042ebe1"
      },
      "source": [
        "num=int(input(\"Introduce un numero: \"))\n",
        "if num%2==0:\n",
        "  print(num, \"Es un numero par\") \n",
        "else:\n",
        "  print(num, \" Es un numero impar\")\n",
        "\n",
        "\n",
        "def Primo(number):\n",
        "  if num <=3:\n",
        "    print(num, \"Es primo\")\n",
        "  elif num > 3 and num%2==0:\n",
        "    return False\n",
        "  else:\n",
        "    for i in range(3,num):\n",
        "      if num%i==0:\n",
        "        return False\n",
        "\n",
        "      return True\n",
        "\n",
        "def primo():\n",
        "  num=int(input(\"Introduce un numero: \"))\n",
        "  result= Primo(num)\n",
        "  if result== True:\n",
        "    print(num, \"Es primo\")\n",
        "  else:\n",
        "    print (num, \"No es primo\")\n",
        "\n",
        "\n",
        "if __name__== '__main__':\n",
        "  primo()\n"
      ],
      "execution_count": 55,
      "outputs": [
        {
          "output_type": "stream",
          "text": [
            "Introduce un numero: 8\n",
            "8 Es un numero par\n",
            "Introduce un numero: 15\n",
            "15 No es primo\n"
          ],
          "name": "stdout"
        }
      ]
    },
    {
      "cell_type": "markdown",
      "metadata": {
        "id": "GP-3mLwGwZQ7"
      },
      "source": [
        "EJERCICIO 5"
      ]
    },
    {
      "cell_type": "code",
      "metadata": {
        "colab": {
          "base_uri": "https://localhost:8080/"
        },
        "id": "SCB8MnKnw5VH",
        "outputId": "8b9da3d2-27c2-4ac2-b9b9-7f984751546a"
      },
      "source": [
        "def Suma(a,b):\n",
        "  sum= a+b \n",
        "  return sum\n",
        "def Resta(a,b):\n",
        "  rest= a-b\n",
        "  return rest\n",
        "def Mult(a,b):\n",
        "  mult= a*b\n",
        "  return mult\n",
        "def Div(a,b):\n",
        "  div=a/b\n",
        "  return div\n",
        "def Exp (a,b):\n",
        "  exp=a**b\n",
        "  return exp\n",
        "\n",
        "a=int(input(\"Introduce el numero a: \"))\n",
        "b=int(input(\"Introduce el numero b: \"))\n",
        "print(\"La suma de a y b es: \", Suma(a,b))\n",
        "print(\"La suma de a y b es: \", Resta(a,b))\n",
        "print(\"La suma de a y b es: \", Mult(a,b))\n",
        "print(\"La suma de a y b es: \", Div(a,b))\n",
        "print(\"La suma de a y b es: \", Exp(a,b))\n",
        "\n",
        "\n",
        "\n"
      ],
      "execution_count": 58,
      "outputs": [
        {
          "output_type": "stream",
          "text": [
            "Introduce el numero a: 8\n",
            "Introduce el numero b: 5\n",
            "La suma de a y b es:  13\n",
            "La suma de a y b es:  3\n",
            "La suma de a y b es:  40\n",
            "La suma de a y b es:  1.6\n",
            "La suma de a y b es:  32768\n"
          ],
          "name": "stdout"
        }
      ]
    }
  ]
}